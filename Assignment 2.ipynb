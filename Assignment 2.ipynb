{
 "cells": [
  {
   "cell_type": "code",
   "execution_count": 1,
   "metadata": {},
   "outputs": [
    {
     "name": "stdout",
     "output_type": "stream",
     "text": [
      "Enter marks of subject 1:3\n",
      "Enter marks of subject 2:3\n",
      "Enter marks of subject 3:4\n",
      "Enter marks of subject 4:5\n",
      "Enter marks of subject 5:5\n",
      "Fail!\n"
     ]
    }
   ],
   "source": [
    "s1=int (input(\"Enter marks of subject 1:\"))\n",
    "s2=int (input(\"Enter marks of subject 2:\"))\n",
    "s3=int (input(\"Enter marks of subject 3:\"))\n",
    "s4=int (input(\"Enter marks of subject 4:\"))\n",
    "s5=int (input(\"Enter marks of subject 5:\"))\n",
    "total=s1+s2+s3+s4+s5\n",
    "per=(total/500)*100\n",
    "if per >=80:\n",
    "    print(\"Grade A+ and Percentage:\",per)\n",
    "elif per>=70 and per<80:\n",
    "    print(\"Grade A and Percntage:\",per)\n",
    "elif per>=60 and per<70:\n",
    "    print(\"Grade B and Percentage:\",per)\n",
    "elif per>=50 and per<60:\n",
    "    print(\"Grade C and Percentage:\",per)\n",
    "else:\n",
    "    print(\"Fail!\")"
   ]
  },
  {
   "cell_type": "code",
   "execution_count": 6,
   "metadata": {},
   "outputs": [
    {
     "name": "stdout",
     "output_type": "stream",
     "text": [
      "Enter number:3\n",
      "Number is Odd!\n"
     ]
    }
   ],
   "source": [
    "num=int(input(\"Enter number:\"))\n",
    "mod=num % 2\n",
    "if mod == 0:\n",
    "    print(\"Number is Even!\")\n",
    "else:\n",
    "    print(\"Number is Odd!\")"
   ]
  },
  {
   "cell_type": "code",
   "execution_count": 7,
   "metadata": {},
   "outputs": [
    {
     "name": "stdout",
     "output_type": "stream",
     "text": [
      "The length of list is:  3\n"
     ]
    }
   ],
   "source": [
    "n = len([10, 20, 30]) \n",
    "print(\"The length of list is: \", n)"
   ]
  },
  {
   "cell_type": "code",
   "execution_count": 12,
   "metadata": {},
   "outputs": [
    {
     "name": "stdout",
     "output_type": "stream",
     "text": [
      "Sum of all elements in given list:  74\n"
     ]
    }
   ],
   "source": [
    "\n",
    "total = 0\n",
    "list1 = [11, 5, 17, 18, 23]   \n",
    "for ele in range(0, len(list1)): \n",
    "    total = total + list1[ele] \n",
    "print(\"Sum of all elements in given list: \", total)"
   ]
  },
  {
   "cell_type": "code",
   "execution_count": 13,
   "metadata": {},
   "outputs": [
    {
     "name": "stdout",
     "output_type": "stream",
     "text": [
      "Largest element is: 99\n"
     ]
    }
   ],
   "source": [
    "list1 = [10, 20, 4, 45, 99] \n",
    "print(\"Largest element is:\", max(list1)) "
   ]
  },
  {
   "cell_type": "code",
   "execution_count": 21,
   "metadata": {},
   "outputs": [
    {
     "name": "stdout",
     "output_type": "stream",
     "text": [
      "1\n",
      "1\n",
      "2\n",
      "3\n"
     ]
    }
   ],
   "source": [
    " a = [1, 1, 2, 3, 5, 8, 13, 21, 34, 55, 89]\n",
    "\n",
    "for i in a:\n",
    "\n",
    "    if i < 5:\n",
    "\n",
    "        print(i)\n",
    "\n"
   ]
  },
  {
   "cell_type": "code",
   "execution_count": null,
   "metadata": {},
   "outputs": [],
   "source": []
  }
 ],
 "metadata": {
  "kernelspec": {
   "display_name": "Python 3",
   "language": "python",
   "name": "python3"
  },
  "language_info": {
   "codemirror_mode": {
    "name": "ipython",
    "version": 3
   },
   "file_extension": ".py",
   "mimetype": "text/x-python",
   "name": "python",
   "nbconvert_exporter": "python",
   "pygments_lexer": "ipython3",
   "version": "3.7.4"
  }
 },
 "nbformat": 4,
 "nbformat_minor": 2
}
